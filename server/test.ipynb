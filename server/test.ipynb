{
 "cells": [
  {
   "cell_type": "code",
   "execution_count": null,
   "metadata": {},
   "outputs": [
    {
     "name": "stdout",
     "output_type": "stream",
     "text": [
      "Orientation value: 5\n",
      "(2062, 3664)\n",
      "1\n"
     ]
    }
   ],
   "source": [
    "import face_recognition\n",
    "from PIL import Image, ExifTags\n",
    "import numpy as np\n",
    "from pillow_heif import register_heif_opener\n",
    "\n",
    "#image_path = \"C:/Users/noahv/Coding Projects/CrowdTag R&D/CrowdTag-FreeTime-project/server/uploads/IMG_1464.jpeg\"\n",
    "image_path = \"C:/Users/noahv/pictures/IMG_5388.jpg\"\n",
    "\n",
    "register_heif_opener()\n",
    "\n",
    "img = Image.open(image_path)\n",
    "\n",
    "# Check for orientation EXIF data and adjust if necessary\n",
    "exif = img._exif\n",
    "if exif == None:\n",
    "    exif = img._getexif()\n",
    "\n",
    "if exif:\n",
    "    for orientation in ExifTags.TAGS.keys():\n",
    "        if ExifTags.TAGS[orientation] == 'Orientation':\n",
    "            orientation_value = exif.get(orientation)\n",
    "            print(f\"Orientation value: {orientation_value}\")\n",
    "            \n",
    "            if orientation_value == 1:\n",
    "                # Normal (no rotation or flip)\n",
    "                pass\n",
    "            elif orientation_value == 2:\n",
    "                # Flipped horizontally\n",
    "                img = img.transpose(Image.FLIP_LEFT_RIGHT)\n",
    "            elif orientation_value == 3:\n",
    "                # Upside down (180 degrees rotation)\n",
    "                img = img.rotate(180, expand=True)\n",
    "            elif orientation_value == 4:\n",
    "                # Flipped vertically\n",
    "                img = img.transpose(Image.FLIP_TOP_BOTTOM)\n",
    "            elif orientation_value == 5:\n",
    "                # 90 degrees counterclockwise and flipped horizontally\n",
    "                img = img.rotate(270, expand=True)\n",
    "                img = img.transpose(Image.FLIP_LEFT_RIGHT)\n",
    "            elif orientation_value == 6:\n",
    "                # 90 degrees clockwise (90 degrees rotation)\n",
    "                img = img.rotate(270, expand=True)\n",
    "            elif orientation_value == 7:\n",
    "                # 90 degrees clockwise and flipped horizontally\n",
    "                img = img.rotate(90, expand=True)\n",
    "                img = img.transpose(Image.FLIP_LEFT_RIGHT)\n",
    "            elif orientation_value == 8:\n",
    "                # 90 degrees counterclockwise (270 degrees rotation)\n",
    "                img = img.rotate(90, expand=True)\n",
    "\n",
    "print(img.size)\n",
    "\n",
    "img.show()\n",
    "\n",
    "# Convert the adjusted image to a numpy array for face_recognition\n",
    "uploaded_image = np.array(img)\n",
    "\n",
    "# Process the image with face_recognition\n",
    "uploaded_encodings = face_recognition.face_encodings(uploaded_image)\n",
    "\n",
    "print(len(uploaded_encodings))\n"
   ]
  }
 ],
 "metadata": {
  "kernelspec": {
   "display_name": "Python 3",
   "language": "python",
   "name": "python3"
  },
  "language_info": {
   "codemirror_mode": {
    "name": "ipython",
    "version": 3
   },
   "file_extension": ".py",
   "mimetype": "text/x-python",
   "name": "python",
   "nbconvert_exporter": "python",
   "pygments_lexer": "ipython3",
   "version": "3.12.3"
  }
 },
 "nbformat": 4,
 "nbformat_minor": 2
}
